{
 "cells": [
  {
   "cell_type": "code",
   "execution_count": 1,
   "id": "c7dbcb33",
   "metadata": {},
   "outputs": [],
   "source": [
    "import streamlit as st\n",
    "import easyocr\n",
    "import cv2\n",
    "import mysql.connector \n"
   ]
  },
  {
   "cell_type": "code",
   "execution_count": 2,
   "id": "e956df09",
   "metadata": {},
   "outputs": [],
   "source": [
    "def main():\n",
    "    st.title(\"BizCardX: Extracting Business Card Data with OCR\")\n",
    "    uploaded_image = st.file_uploader(\"Upload a business card image\", type=[\"jpg\", \"jpeg\", \"png\"])\n",
    "    if uploaded_image is not None:\n",
    "        image = cv2.imdecode(np.fromstring(uploaded_image.read(), np.uint8), 1)\n",
    "        st.image(image, caption=\"Uploaded Image\", use_column_width=True)\n",
    "        if st.button(\"Extract Information\"):\n",
    "            extracted_data = extract_data(image)\n",
    "            display_data(extracted_data)\n",
    "            save_to_database(uploaded_image, extracted_data)"
   ]
  },
  {
   "cell_type": "code",
   "execution_count": 3,
   "id": "c531e6a4",
   "metadata": {},
   "outputs": [],
   "source": [
    "def extract_data(image):\n",
    "  \n",
    "\n",
    "    # Use easyOCR to extract text from the image\n",
    "    reader = easyocr.Reader(['en'])\n",
    "    results = reader.readtext(image)\n",
    "    \n",
    "    # Process the OCR results to extract relevant information\n",
    "    # You may need to use regex or other techniques to extract specific data like email, phone number, etc.\n",
    "    \n",
    "    extracted_data = {\n",
    "        \"Company\": \"\",\n",
    "        \"Card Holder Name\": \"\",\n",
    "        \"Designation\": \"\",\n",
    "        \"Mobile Number\": \"\",\n",
    "        \"Email\": \"\",\n",
    "        \"Website\": \"\",\n",
    "        \"Area\": \"\",\n",
    "        \"City\": \"\",\n",
    "        \"State\": \"\",\n",
    "        \"Pin Code\": \"\"\n",
    "    }\n",
    "    \n",
    "    # Fill the extracted_data dictionary with relevant information from OCR results\n",
    "    \n",
    "    return extracted_data\n"
   ]
  },
  {
   "cell_type": "code",
   "execution_count": 4,
   "id": "3953657b",
   "metadata": {},
   "outputs": [
    {
     "name": "stdout",
     "output_type": "stream",
     "text": [
      "Connected to the MySQL database!\n"
     ]
    }
   ],
   "source": [
    "import pymysql\n",
    "\n",
    "host = 'localhost'\n",
    "database = 'bizcard'\n",
    "user = 'root'\n",
    "password = 'Gana1998@'\n",
    "\n",
    "# Establish the connection to the MySQL database\n",
    "conn = pymysql.connect(host=host, database=database, user=user, password=password)\n",
    "\n",
    "# Check if the connection\n",
    "if conn:\n",
    "    print(\"Connected to the MySQL database!\")\n",
    "else:\n",
    "    print(\"Failed to connect to the MySQL database.\")\n"
   ]
  },
  {
   "cell_type": "code",
   "execution_count": 5,
   "id": "38b4bbab",
   "metadata": {},
   "outputs": [],
   "source": [
    "# Import the required libraries\n",
    "import streamlit as st\n",
    "import streamlit.components.v1 as components\n",
    "import hashlib\n",
    "\n",
    "# Define the custom SessionState class for managing session state\n",
    "class SessionState:\n",
    "    def __init__(self, **kwargs):\n",
    "        self.__dict__.update(kwargs)\n",
    "\n",
    "# Function to check if the entered password is correct\n",
    "def check_password(password):\n",
    "    # Hash the password to compare it with the stored hash\n",
    "    hashed_password = hashlib.sha256(password.encode()).hexdigest()\n",
    "    stored_hashed_password = \"your_stored_hashed_password\"\n",
    "    return hashed_password == stored_hashed_password\n",
    "\n",
    "# Streamlit application - Add user authentication\n",
    "def main():\n",
    "    # Initialize the session state\n",
    "    session_state = SessionState(logged_in=False)\n",
    "\n",
    "    st.title(\"BizCardX: Extracting Business Card Data with OCR\")\n",
    "\n",
    "    # Display the login form\n",
    "    if not session_state.logged_in:\n",
    "        st.header(\"Login\")\n",
    "        password = st.text_input(\"Password\", type=\"password\")\n",
    "        if st.button(\"Login\"):\n",
    "            if check_password(password):\n",
    "                session_state.logged_in = True\n",
    "                st.success(\"Login successful! You can now use the application.\")\n",
    "            else:\n",
    "                st.error(\"Invalid password. Please try again.\")\n",
    "\n",
    "    if session_state.logged_in:\n",
    "        uploaded_image = st.file_uploader(\"Upload a business card image\", type=[\"jpg\", \"jpeg\", \"png\"])\n"
   ]
  }
 ],
 "metadata": {
  "kernelspec": {
   "display_name": "Python 3 (ipykernel)",
   "language": "python",
   "name": "python3"
  },
  "language_info": {
   "codemirror_mode": {
    "name": "ipython",
    "version": 3
   },
   "file_extension": ".py",
   "mimetype": "text/x-python",
   "name": "python",
   "nbconvert_exporter": "python",
   "pygments_lexer": "ipython3",
   "version": "3.9.12"
  }
 },
 "nbformat": 4,
 "nbformat_minor": 5
}
